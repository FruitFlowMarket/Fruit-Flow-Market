{
 "cells": [
  {
   "cell_type": "code",
   "execution_count": 1,
   "id": "cd4ad373-f0a2-4aff-8b23-f83c1fc6020a",
   "metadata": {},
   "outputs": [],
   "source": [
    "import mysql.connector"
   ]
  },
  {
   "cell_type": "code",
   "execution_count": 10,
   "id": "a396130e",
   "metadata": {},
   "outputs": [],
   "source": [
    "conn = mysql.connector.connect(\n",
    "    host = \"localhost\",\n",
    "    user = \"root\",\n",
    "    password = \"1111\",\n",
    "    database = \"f2mbase\"\n",
    ")"
   ]
  },
  {
   "cell_type": "code",
   "execution_count": 3,
   "id": "847143f5",
   "metadata": {},
   "outputs": [],
   "source": [
    "from datetime import datetime"
   ]
  },
  {
   "cell_type": "code",
   "execution_count": 11,
   "id": "77ee6848",
   "metadata": {},
   "outputs": [],
   "source": [
    "cursor = conn.cursor()\n",
    "cursor.execute(\"insert into members (member_id, member_name, birth, phone, email, join_dttm, credit_card)\\\n",
    "               values (%s,%s,%s,%s,%s,%s,%s)\", (1, \"김종호\", \"1993-12-09\", \"010-1111-1111\",\"member1@email.com\", datetime.now(), \"1111-1111-1111-1111\"))\n",
    "conn.commit()"
   ]
  },
  {
   "cell_type": "code",
   "execution_count": 12,
   "id": "d3b20c23",
   "metadata": {},
   "outputs": [],
   "source": [
    "cursor.execute(\"insert into visit_info (member_id, in_dttm) values (%s, %s)\", (1,datetime.now()))\n",
    "conn.commit()"
   ]
  },
  {
   "cell_type": "code",
   "execution_count": 13,
   "id": "51f907a6",
   "metadata": {},
   "outputs": [],
   "source": [
    "cursor.execute(\"select max(visit_id) from visit_info where member_id=(%s)\", (1,))\n",
    "result = cursor.fetchall()"
   ]
  },
  {
   "cell_type": "code",
   "execution_count": 14,
   "id": "77b49bea",
   "metadata": {},
   "outputs": [
    {
     "data": {
      "text/plain": [
       "[(2,)]"
      ]
     },
     "execution_count": 14,
     "metadata": {},
     "output_type": "execute_result"
    }
   ],
   "source": [
    "result"
   ]
  },
  {
   "cell_type": "code",
   "execution_count": 15,
   "id": "c590f79d",
   "metadata": {},
   "outputs": [],
   "source": [
    "cursor.execute(\"update visit_info set out_dttm=%s where member_id=%s\", (datetime.now(),1))\n",
    "conn.commit()"
   ]
  },
  {
   "cell_type": "code",
   "execution_count": 8,
   "id": "bc0294cc",
   "metadata": {},
   "outputs": [
    {
     "data": {
      "text/plain": [
       "False"
      ]
     },
     "execution_count": 8,
     "metadata": {},
     "output_type": "execute_result"
    }
   ],
   "source": [
    "cursor.close()"
   ]
  },
  {
   "cell_type": "code",
   "execution_count": null,
   "id": "edc2f8ab",
   "metadata": {},
   "outputs": [],
   "source": []
  }
 ],
 "metadata": {
  "kernelspec": {
   "display_name": "dlteam_venv",
   "language": "python",
   "name": "python3"
  },
  "language_info": {
   "codemirror_mode": {
    "name": "ipython",
    "version": 3
   },
   "file_extension": ".py",
   "mimetype": "text/x-python",
   "name": "python",
   "nbconvert_exporter": "python",
   "pygments_lexer": "ipython3",
   "version": "3.10.12"
  }
 },
 "nbformat": 4,
 "nbformat_minor": 5
}
